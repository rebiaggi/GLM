{
  "nbformat": 4,
  "nbformat_minor": 0,
  "metadata": {
    "colab": {
      "provenance": []
    },
    "kernelspec": {
      "name": "python3",
      "display_name": "Python 3"
    },
    "language_info": {
      "name": "python"
    }
  },
  "cells": [
    {
      "cell_type": "code",
      "source": [
        "import pandas as pd\n",
        "import matplotlib.pyplot as plt\n",
        "import numpy as np\n",
        "import statsmodels.api as sm"
      ],
      "metadata": {
        "id": "V-LLC783QhR-"
      },
      "execution_count": null,
      "outputs": []
    },
    {
      "cell_type": "markdown",
      "source": [
        "Criando o dataset"
      ],
      "metadata": {
        "id": "YPYFBjApkqGP"
      }
    },
    {
      "cell_type": "code",
      "source": [
        "data = {\n",
        "    'price': [1.99, 1.49, 2.99, 3.99, 1.99, 2.49, 3.99, 2.99, 1.99, 0.99],\n",
        "    'measurement': [0.2, 0.4, 0.1, 0.1, 0.2, 0.1, 0.1, 0.1, 0.2, 0.5],\n",
        "    'weight': [2, 4, 1, 1, 2, 1, 1, 1, 2, 5],\n",
        "    'units_sold': [1, 2, 1, 0, 2, 0, 0, 0, 1, 4]\n",
        "}\n",
        "\n",
        "df = pd.DataFrame(data)\n"
      ],
      "metadata": {
        "id": "QGA4TUZ0hDjs"
      },
      "execution_count": null,
      "outputs": []
    },
    {
      "cell_type": "markdown",
      "source": [
        "Separando as variáveis"
      ],
      "metadata": {
        "id": "EOWSvauVksDl"
      }
    },
    {
      "cell_type": "code",
      "source": [
        "X = df[[\"price\", \"measurement\", \"weight\"]]\n",
        "y = df[[\"units_sold\"]]"
      ],
      "metadata": {
        "id": "ebbemH_mhFPm"
      },
      "execution_count": null,
      "outputs": []
    },
    {
      "cell_type": "markdown",
      "source": [
        "Treinando o GLM"
      ],
      "metadata": {
        "id": "Hpyui6v4ktlH"
      }
    },
    {
      "cell_type": "code",
      "source": [
        "\n",
        "\n",
        "mod = sm.GLM(y, X, family=sm.families.Poisson(link=sm.families.links.log()))\n",
        "res = mod.fit()\n",
        "display(res.summary())\n"
      ],
      "metadata": {
        "colab": {
          "base_uri": "https://localhost:8080/",
          "height": 372
        },
        "id": "tvzXU0spT0Rj",
        "outputId": "fe991a33-19bd-46be-fc1e-f3643a840aa4"
      },
      "execution_count": null,
      "outputs": [
        {
          "output_type": "stream",
          "name": "stderr",
          "text": [
            "/usr/local/lib/python3.10/dist-packages/statsmodels/genmod/families/links.py:13: FutureWarning: The log link alias is deprecated. Use Log instead. The log link alias will be removed after the 0.15.0 release.\n",
            "  warnings.warn(\n"
          ]
        },
        {
          "output_type": "display_data",
          "data": {
            "text/plain": [
              "<class 'statsmodels.iolib.summary.Summary'>\n",
              "\"\"\"\n",
              "                 Generalized Linear Model Regression Results                  \n",
              "==============================================================================\n",
              "Dep. Variable:             units_sold   No. Observations:                   10\n",
              "Model:                            GLM   Df Residuals:                        8\n",
              "Model Family:                 Poisson   Df Model:                            1\n",
              "Link Function:                    log   Scale:                          1.0000\n",
              "Method:                          IRLS   Log-Likelihood:                -9.5168\n",
              "Date:                Sun, 07 Jan 2024   Deviance:                       4.5404\n",
              "Time:                        11:21:13   Pearson chi2:                     4.02\n",
              "No. Iterations:                     5   Pseudo R-squ. (CS):             0.6321\n",
              "Covariance Type:            nonrobust                                         \n",
              "===============================================================================\n",
              "                  coef    std err          z      P>|z|      [0.025      0.975]\n",
              "-------------------------------------------------------------------------------\n",
              "price          -0.4604      0.223     -2.061      0.039      -0.898      -0.023\n",
              "measurement     0.0375      0.011      3.493      0.000       0.016       0.059\n",
              "weight          0.3749      0.107      3.493      0.000       0.165       0.585\n",
              "===============================================================================\n",
              "\"\"\""
            ],
            "text/html": [
              "<table class=\"simpletable\">\n",
              "<caption>Generalized Linear Model Regression Results</caption>\n",
              "<tr>\n",
              "  <th>Dep. Variable:</th>      <td>units_sold</td>    <th>  No. Observations:  </th>  <td>    10</td> \n",
              "</tr>\n",
              "<tr>\n",
              "  <th>Model:</th>                  <td>GLM</td>       <th>  Df Residuals:      </th>  <td>     8</td> \n",
              "</tr>\n",
              "<tr>\n",
              "  <th>Model Family:</th>         <td>Poisson</td>     <th>  Df Model:          </th>  <td>     1</td> \n",
              "</tr>\n",
              "<tr>\n",
              "  <th>Link Function:</th>          <td>log</td>       <th>  Scale:             </th> <td>  1.0000</td>\n",
              "</tr>\n",
              "<tr>\n",
              "  <th>Method:</th>                <td>IRLS</td>       <th>  Log-Likelihood:    </th> <td> -9.5168</td>\n",
              "</tr>\n",
              "<tr>\n",
              "  <th>Date:</th>            <td>Sun, 07 Jan 2024</td> <th>  Deviance:          </th> <td>  4.5404</td>\n",
              "</tr>\n",
              "<tr>\n",
              "  <th>Time:</th>                <td>11:21:13</td>     <th>  Pearson chi2:      </th>  <td>  4.02</td> \n",
              "</tr>\n",
              "<tr>\n",
              "  <th>No. Iterations:</th>          <td>5</td>        <th>  Pseudo R-squ. (CS):</th>  <td>0.6321</td> \n",
              "</tr>\n",
              "<tr>\n",
              "  <th>Covariance Type:</th>     <td>nonrobust</td>    <th>                     </th>     <td> </td>   \n",
              "</tr>\n",
              "</table>\n",
              "<table class=\"simpletable\">\n",
              "<tr>\n",
              "       <td></td>          <th>coef</th>     <th>std err</th>      <th>z</th>      <th>P>|z|</th>  <th>[0.025</th>    <th>0.975]</th>  \n",
              "</tr>\n",
              "<tr>\n",
              "  <th>price</th>       <td>   -0.4604</td> <td>    0.223</td> <td>   -2.061</td> <td> 0.039</td> <td>   -0.898</td> <td>   -0.023</td>\n",
              "</tr>\n",
              "<tr>\n",
              "  <th>measurement</th> <td>    0.0375</td> <td>    0.011</td> <td>    3.493</td> <td> 0.000</td> <td>    0.016</td> <td>    0.059</td>\n",
              "</tr>\n",
              "<tr>\n",
              "  <th>weight</th>      <td>    0.3749</td> <td>    0.107</td> <td>    3.493</td> <td> 0.000</td> <td>    0.165</td> <td>    0.585</td>\n",
              "</tr>\n",
              "</table>"
            ],
            "text/latex": "\\begin{center}\n\\begin{tabular}{lclc}\n\\toprule\n\\textbf{Dep. Variable:}   &   units\\_sold    & \\textbf{  No. Observations:  } &       10    \\\\\n\\textbf{Model:}           &       GLM        & \\textbf{  Df Residuals:      } &        8    \\\\\n\\textbf{Model Family:}    &     Poisson      & \\textbf{  Df Model:          } &        1    \\\\\n\\textbf{Link Function:}   &       log        & \\textbf{  Scale:             } &    1.0000   \\\\\n\\textbf{Method:}          &       IRLS       & \\textbf{  Log-Likelihood:    } &   -9.5168   \\\\\n\\textbf{Date:}            & Sun, 07 Jan 2024 & \\textbf{  Deviance:          } &    4.5404   \\\\\n\\textbf{Time:}            &     11:21:13     & \\textbf{  Pearson chi2:      } &     4.02    \\\\\n\\textbf{No. Iterations:}  &        5         & \\textbf{  Pseudo R-squ. (CS):} &   0.6321    \\\\\n\\textbf{Covariance Type:} &    nonrobust     & \\textbf{                     } &             \\\\\n\\bottomrule\n\\end{tabular}\n\\begin{tabular}{lcccccc}\n                     & \\textbf{coef} & \\textbf{std err} & \\textbf{z} & \\textbf{P$> |$z$|$} & \\textbf{[0.025} & \\textbf{0.975]}  \\\\\n\\midrule\n\\textbf{price}       &      -0.4604  &        0.223     &    -2.061  &         0.039        &       -0.898    &       -0.023     \\\\\n\\textbf{measurement} &       0.0375  &        0.011     &     3.493  &         0.000        &        0.016    &        0.059     \\\\\n\\textbf{weight}      &       0.3749  &        0.107     &     3.493  &         0.000        &        0.165    &        0.585     \\\\\n\\bottomrule\n\\end{tabular}\n%\\caption{Generalized Linear Model Regression Results}\n\\end{center}"
          },
          "metadata": {}
        }
      ]
    },
    {
      "cell_type": "markdown",
      "source": [
        "A título de comparação, vamos treinar esse modelo em  um OLS (regressão linear)"
      ],
      "metadata": {
        "id": "U1Ah6PwWkzug"
      }
    },
    {
      "cell_type": "code",
      "source": [
        "mod2 = sm.OLS(y, X)\n",
        "res2 = mod2.fit()\n",
        "display(res2.summary())"
      ],
      "metadata": {
        "id": "05qWd3ebiHPs",
        "colab": {
          "base_uri": "https://localhost:8080/",
          "height": 561
        },
        "outputId": "04296bc3-110f-4c3b-effb-769ea30e931b"
      },
      "execution_count": null,
      "outputs": [
        {
          "output_type": "stream",
          "name": "stderr",
          "text": [
            "/usr/local/lib/python3.10/dist-packages/scipy/stats/_stats_py.py:1806: UserWarning: kurtosistest only valid for n>=20 ... continuing anyway, n=10\n",
            "  warnings.warn(\"kurtosistest only valid for n>=20 ... continuing \"\n"
          ]
        },
        {
          "output_type": "display_data",
          "data": {
            "text/plain": [
              "<class 'statsmodels.iolib.summary.Summary'>\n",
              "\"\"\"\n",
              "                                 OLS Regression Results                                \n",
              "=======================================================================================\n",
              "Dep. Variable:             units_sold   R-squared (uncentered):                   0.917\n",
              "Model:                            OLS   Adj. R-squared (uncentered):              0.897\n",
              "Method:                 Least Squares   F-statistic:                              44.33\n",
              "Date:                Sun, 07 Jan 2024   Prob (F-statistic):                    4.69e-05\n",
              "Time:                        11:21:28   Log-Likelihood:                         -6.6966\n",
              "No. Observations:                  10   AIC:                                      17.39\n",
              "Df Residuals:                       8   BIC:                                      18.00\n",
              "Df Model:                           2                                                  \n",
              "Covariance Type:            nonrobust                                                  \n",
              "===============================================================================\n",
              "                  coef    std err          t      P>|t|      [0.025      0.975]\n",
              "-------------------------------------------------------------------------------\n",
              "price          -0.1618      0.079     -2.040      0.076      -0.345       0.021\n",
              "measurement     0.0740      0.009      8.516      0.000       0.054       0.094\n",
              "weight          0.7402      0.087      8.516      0.000       0.540       0.941\n",
              "==============================================================================\n",
              "Omnibus:                        0.712   Durbin-Watson:                   2.651\n",
              "Prob(Omnibus):                  0.700   Jarque-Bera (JB):                0.614\n",
              "Skew:                           0.469   Prob(JB):                        0.736\n",
              "Kurtosis:                       2.230   Cond. No.                     1.08e+17\n",
              "==============================================================================\n",
              "\n",
              "Notes:\n",
              "[1] R² is computed without centering (uncentered) since the model does not contain a constant.\n",
              "[2] Standard Errors assume that the covariance matrix of the errors is correctly specified.\n",
              "[3] The smallest eigenvalue is 9.03e-33. This might indicate that there are\n",
              "strong multicollinearity problems or that the design matrix is singular.\n",
              "\"\"\""
            ],
            "text/html": [
              "<table class=\"simpletable\">\n",
              "<caption>OLS Regression Results</caption>\n",
              "<tr>\n",
              "  <th>Dep. Variable:</th>       <td>units_sold</td>    <th>  R-squared (uncentered):</th>      <td>   0.917</td>\n",
              "</tr>\n",
              "<tr>\n",
              "  <th>Model:</th>                   <td>OLS</td>       <th>  Adj. R-squared (uncentered):</th> <td>   0.897</td>\n",
              "</tr>\n",
              "<tr>\n",
              "  <th>Method:</th>             <td>Least Squares</td>  <th>  F-statistic:       </th>          <td>   44.33</td>\n",
              "</tr>\n",
              "<tr>\n",
              "  <th>Date:</th>             <td>Sun, 07 Jan 2024</td> <th>  Prob (F-statistic):</th>          <td>4.69e-05</td>\n",
              "</tr>\n",
              "<tr>\n",
              "  <th>Time:</th>                 <td>11:21:28</td>     <th>  Log-Likelihood:    </th>          <td> -6.6966</td>\n",
              "</tr>\n",
              "<tr>\n",
              "  <th>No. Observations:</th>      <td>    10</td>      <th>  AIC:               </th>          <td>   17.39</td>\n",
              "</tr>\n",
              "<tr>\n",
              "  <th>Df Residuals:</th>          <td>     8</td>      <th>  BIC:               </th>          <td>   18.00</td>\n",
              "</tr>\n",
              "<tr>\n",
              "  <th>Df Model:</th>              <td>     2</td>      <th>                     </th>              <td> </td>   \n",
              "</tr>\n",
              "<tr>\n",
              "  <th>Covariance Type:</th>      <td>nonrobust</td>    <th>                     </th>              <td> </td>   \n",
              "</tr>\n",
              "</table>\n",
              "<table class=\"simpletable\">\n",
              "<tr>\n",
              "       <td></td>          <th>coef</th>     <th>std err</th>      <th>t</th>      <th>P>|t|</th>  <th>[0.025</th>    <th>0.975]</th>  \n",
              "</tr>\n",
              "<tr>\n",
              "  <th>price</th>       <td>   -0.1618</td> <td>    0.079</td> <td>   -2.040</td> <td> 0.076</td> <td>   -0.345</td> <td>    0.021</td>\n",
              "</tr>\n",
              "<tr>\n",
              "  <th>measurement</th> <td>    0.0740</td> <td>    0.009</td> <td>    8.516</td> <td> 0.000</td> <td>    0.054</td> <td>    0.094</td>\n",
              "</tr>\n",
              "<tr>\n",
              "  <th>weight</th>      <td>    0.7402</td> <td>    0.087</td> <td>    8.516</td> <td> 0.000</td> <td>    0.540</td> <td>    0.941</td>\n",
              "</tr>\n",
              "</table>\n",
              "<table class=\"simpletable\">\n",
              "<tr>\n",
              "  <th>Omnibus:</th>       <td> 0.712</td> <th>  Durbin-Watson:     </th> <td>   2.651</td>\n",
              "</tr>\n",
              "<tr>\n",
              "  <th>Prob(Omnibus):</th> <td> 0.700</td> <th>  Jarque-Bera (JB):  </th> <td>   0.614</td>\n",
              "</tr>\n",
              "<tr>\n",
              "  <th>Skew:</th>          <td> 0.469</td> <th>  Prob(JB):          </th> <td>   0.736</td>\n",
              "</tr>\n",
              "<tr>\n",
              "  <th>Kurtosis:</th>      <td> 2.230</td> <th>  Cond. No.          </th> <td>1.08e+17</td>\n",
              "</tr>\n",
              "</table><br/><br/>Notes:<br/>[1] R² is computed without centering (uncentered) since the model does not contain a constant.<br/>[2] Standard Errors assume that the covariance matrix of the errors is correctly specified.<br/>[3] The smallest eigenvalue is 9.03e-33. This might indicate that there are<br/>strong multicollinearity problems or that the design matrix is singular."
            ],
            "text/latex": "\\begin{center}\n\\begin{tabular}{lclc}\n\\toprule\n\\textbf{Dep. Variable:}    &   units\\_sold    & \\textbf{  R-squared (uncentered):}      &     0.917   \\\\\n\\textbf{Model:}            &       OLS        & \\textbf{  Adj. R-squared (uncentered):} &     0.897   \\\\\n\\textbf{Method:}           &  Least Squares   & \\textbf{  F-statistic:       }          &     44.33   \\\\\n\\textbf{Date:}             & Sun, 07 Jan 2024 & \\textbf{  Prob (F-statistic):}          &  4.69e-05   \\\\\n\\textbf{Time:}             &     11:21:28     & \\textbf{  Log-Likelihood:    }          &   -6.6966   \\\\\n\\textbf{No. Observations:} &          10      & \\textbf{  AIC:               }          &     17.39   \\\\\n\\textbf{Df Residuals:}     &           8      & \\textbf{  BIC:               }          &     18.00   \\\\\n\\textbf{Df Model:}         &           2      & \\textbf{                     }          &             \\\\\n\\textbf{Covariance Type:}  &    nonrobust     & \\textbf{                     }          &             \\\\\n\\bottomrule\n\\end{tabular}\n\\begin{tabular}{lcccccc}\n                     & \\textbf{coef} & \\textbf{std err} & \\textbf{t} & \\textbf{P$> |$t$|$} & \\textbf{[0.025} & \\textbf{0.975]}  \\\\\n\\midrule\n\\textbf{price}       &      -0.1618  &        0.079     &    -2.040  &         0.076        &       -0.345    &        0.021     \\\\\n\\textbf{measurement} &       0.0740  &        0.009     &     8.516  &         0.000        &        0.054    &        0.094     \\\\\n\\textbf{weight}      &       0.7402  &        0.087     &     8.516  &         0.000        &        0.540    &        0.941     \\\\\n\\bottomrule\n\\end{tabular}\n\\begin{tabular}{lclc}\n\\textbf{Omnibus:}       &  0.712 & \\textbf{  Durbin-Watson:     } &    2.651  \\\\\n\\textbf{Prob(Omnibus):} &  0.700 & \\textbf{  Jarque-Bera (JB):  } &    0.614  \\\\\n\\textbf{Skew:}          &  0.469 & \\textbf{  Prob(JB):          } &    0.736  \\\\\n\\textbf{Kurtosis:}      &  2.230 & \\textbf{  Cond. No.          } & 1.08e+17  \\\\\n\\bottomrule\n\\end{tabular}\n%\\caption{OLS Regression Results}\n\\end{center}\n\nNotes: \\newline\n [1] R² is computed without centering (uncentered) since the model does not contain a constant. \\newline\n [2] Standard Errors assume that the covariance matrix of the errors is correctly specified. \\newline\n [3] The smallest eigenvalue is 9.03e-33. This might indicate that there are \\newline\n strong multicollinearity problems or that the design matrix is singular."
          },
          "metadata": {}
        }
      ]
    },
    {
      "cell_type": "markdown",
      "source": [
        "Agora, vamos aplicar os modelos treinados em um conjunto de teste de dados nunca visto antes - essa prática é comum quanto estamos mais interessados na predição do que na explicação das variáveis - isso é um assunto mais comum de machine learning.\n",
        "\n",
        "Por hora, vamos nos concentrar no fato de que nosso objetivo com essas regressões é prever o unit_sold, e temos 2 modelos treinados - um linear e um OLM. Agora, temos preços e tamanhos de outros produtos e queremos prever quanto teríamos de unit_sold"
      ],
      "metadata": {
        "id": "o03Pb_Ral9dV"
      }
    },
    {
      "cell_type": "code",
      "source": [
        "# nossos novos dados, os quais não sabemos o unit sold (queremos prever isso)\n",
        "data2 = {\n",
        "    'price': [0.99, 2.49, 1.49, 1.99, 4.99],\n",
        "    'measurement': [0.4, 0.1, 0.3, 0.2, 0.1],\n",
        "    'weight': [4, 1, 3, 2, 1],\n",
        "}\n",
        "\n",
        "df_test = pd.DataFrame(data2)"
      ],
      "metadata": {
        "id": "my1e3Ou9pYm3"
      },
      "execution_count": null,
      "outputs": []
    },
    {
      "cell_type": "code",
      "source": [
        "X_test = df_test[[\"price\", \"measurement\", \"weight\"]]"
      ],
      "metadata": {
        "id": "DcL8cr4Cp2CB"
      },
      "execution_count": null,
      "outputs": []
    },
    {
      "cell_type": "markdown",
      "source": [
        "Vamos ver as predições no modelo GLM\n"
      ],
      "metadata": {
        "id": "odyOeSyXpxq0"
      }
    },
    {
      "cell_type": "code",
      "source": [
        "y_test_pred_glm = res.predict(X_test)\n",
        "print(y_test_pred_glm)"
      ],
      "metadata": {
        "colab": {
          "base_uri": "https://localhost:8080/"
        },
        "id": "G_HoMfttpYqP",
        "outputId": "c9e2e065-840f-41a2-ea7c-bcf1e74e4372"
      },
      "execution_count": null,
      "outputs": [
        {
          "output_type": "stream",
          "name": "stdout",
          "text": [
            "0    2.883304\n",
            "1    0.464031\n",
            "2    1.568348\n",
            "3    0.853090\n",
            "4    0.146767\n",
            "dtype: float64\n"
          ]
        }
      ]
    },
    {
      "cell_type": "markdown",
      "source": [
        "Nossas previsões parecem bastante razoáveis. Como todos esses dados são amostrais inventados, é difícil dizer se nosso modelo está indo bem ou não. No entanto, todos os valores são positivos e seguem, até certo ponto, os nossos dados de amostra.\n",
        "Ser positivo é importante aqui, uma vez que unit sold nunca será negativo (é quantidade vendida).\n",
        "\n",
        "O fato de ser um número contínuo não é preocupante, uma vez que esses dados são inventados, e podemos aproxima-los para o inteiro mais próximo"
      ],
      "metadata": {
        "id": "av6m6BV5qZJr"
      }
    },
    {
      "cell_type": "markdown",
      "source": [
        "Agora vamos testar na regressão linear"
      ],
      "metadata": {
        "id": "4TfuNbQyqKxx"
      }
    },
    {
      "cell_type": "code",
      "source": [
        "y_test_pred_linear = res2.predict(X_test)\n",
        "print(y_test_pred_linear)"
      ],
      "metadata": {
        "colab": {
          "base_uri": "https://localhost:8080/"
        },
        "id": "iGiiER_FpYtY",
        "outputId": "44c9beb2-b59f-43da-a7a7-eab284423ccd"
      },
      "execution_count": null,
      "outputs": [
        {
          "output_type": "stream",
          "name": "stdout",
          "text": [
            "0    2.830127\n",
            "1    0.344628\n",
            "2    2.001628\n",
            "3    1.173128\n",
            "4   -0.059946\n",
            "dtype: float64\n"
          ]
        }
      ]
    },
    {
      "cell_type": "markdown",
      "source": [
        "As previsões não parecem tão ruins, mas repare que uma das previsões acaba sendo negativa! Em nosso exemplo de caso de uso, nunca devemos ter valores negativos. Vemos uma previsão negativa porque o modelo de regressão linear assume uma distribuição gaussiana como seu domínio de valor, o que significa que os valores podem ser qualquer valor negativo ou positivo. Portanto, este tipo de modelo permite previsões de valores negativos devido a esta suposição gaussiana."
      ],
      "metadata": {
        "id": "UC4oqQtXro2R"
      }
    },
    {
      "cell_type": "code",
      "source": [],
      "metadata": {
        "id": "pqcbSn6ekMyd"
      },
      "execution_count": null,
      "outputs": []
    }
  ]
}